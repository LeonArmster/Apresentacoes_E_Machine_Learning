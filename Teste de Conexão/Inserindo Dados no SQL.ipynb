{
 "cells": [
  {
   "cell_type": "code",
   "execution_count": 1,
   "id": "7f3e59cb-72a8-4da3-8283-669b747004ae",
   "metadata": {},
   "outputs": [],
   "source": [
    "import pandas as pd\n",
    "import pyodbc"
   ]
  },
  {
   "cell_type": "code",
   "execution_count": 2,
   "id": "548e1953-96f5-46c7-87bb-1ec99766b008",
   "metadata": {},
   "outputs": [],
   "source": [
    "server = 'LAPTOP-J92MOJ2F\\SQLEXPRESS'\n",
    "database = 'CLIENTES'\n",
    "\n",
    "cnxn = pyodbc.connect('DRIVER={SQL Server};SERVER='+server+';DATABASE='+database)"
   ]
  },
  {
   "cell_type": "code",
   "execution_count": 3,
   "id": "4739e8f4-bcdb-466f-b029-4c0d4263bbe5",
   "metadata": {},
   "outputs": [],
   "source": [
    "cursor = cnxn.cursor()"
   ]
  },
  {
   "cell_type": "code",
   "execution_count": 11,
   "id": "d6b7a162-899c-41eb-a432-72ce2bbaf829",
   "metadata": {},
   "outputs": [],
   "source": [
    "df = pd.read_excel(r'C:\\Users\\leo-s\\OneDrive\\Área de Trabalho\\base_teste.xlsx')"
   ]
  },
  {
   "cell_type": "code",
   "execution_count": 13,
   "id": "cdffff86-8196-4184-a47f-1359b7df5296",
   "metadata": {},
   "outputs": [],
   "source": [
    "for row in df.itertuples():\n",
    "    cursor.execute('INSERT INTO [CLIENTES].[dbo].[dadosbasicos] ([idcliente],[nomecliente], [endereco], [idade]) VALUES (?, ?, ?, ?)',\n",
    "                       row.id, row.nome, row.endereco, row.idade)\n",
    "    cnxn.commit()"
   ]
  },
  {
   "cell_type": "code",
   "execution_count": 14,
   "id": "0219afd4-b7a2-476f-b46b-f10574b2faf4",
   "metadata": {},
   "outputs": [],
   "source": [
    "cnxn.close()"
   ]
  }
 ],
 "metadata": {
  "kernelspec": {
   "display_name": "Python 3 (ipykernel)",
   "language": "python",
   "name": "python3"
  },
  "language_info": {
   "codemirror_mode": {
    "name": "ipython",
    "version": 3
   },
   "file_extension": ".py",
   "mimetype": "text/x-python",
   "name": "python",
   "nbconvert_exporter": "python",
   "pygments_lexer": "ipython3",
   "version": "3.9.12"
  }
 },
 "nbformat": 4,
 "nbformat_minor": 5
}
