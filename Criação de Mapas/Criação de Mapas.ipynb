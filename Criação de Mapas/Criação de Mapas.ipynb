{
 "cells": [
  {
   "cell_type": "markdown",
   "id": "68e306de-14e8-494f-8865-5d530d633b7a",
   "metadata": {},
   "source": [
    "### Criando Mapas"
   ]
  },
  {
   "cell_type": "code",
   "execution_count": null,
   "id": "76ad58ac-9f6e-40ec-98f4-f740db29bf3f",
   "metadata": {},
   "outputs": [],
   "source": [
    "import folium"
   ]
  },
  {
   "cell_type": "code",
   "execution_count": null,
   "id": "c02c8a68-6d34-4fa1-a5a1-6db96ea819d6",
   "metadata": {},
   "outputs": [],
   "source": [
    "mapa = folium.Map(location = [-23.5489, -46.6388])"
   ]
  },
  {
   "cell_type": "code",
   "execution_count": null,
   "id": "9d050c31-ba19-41ff-8ab2-5087fbb6fa34",
   "metadata": {
    "tags": []
   },
   "outputs": [],
   "source": [
    "mapa"
   ]
  },
  {
   "cell_type": "code",
   "execution_count": null,
   "id": "aa3f7a20-d2c4-4f3e-bddf-5f5de35704a4",
   "metadata": {},
   "outputs": [],
   "source": [
    "## Configuração de modo de exibição\n",
    "\n",
    "folium.Map(location = [-23.5489, -46.6388],\n",
    "          tiles = 'Stamen Terrain' )"
   ]
  },
  {
   "cell_type": "code",
   "execution_count": null,
   "id": "c51cc399-6ccb-4110-aacb-7c0dc725e474",
   "metadata": {},
   "outputs": [],
   "source": [
    "## Inserindo Marcador\n",
    "\n",
    "folium.Map(location = [-23.5489, -46.6388],\n",
    "          tiles = 'Stamen Terrain' )\n",
    "\n",
    "folium.Marker(\n",
    "                location = [-23.5503099, -46.6342009],\n",
    "                popup = 'Praça Da Sé'\n",
    "                \n",
    ").add_to(mapa)"
   ]
  },
  {
   "cell_type": "code",
   "execution_count": null,
   "id": "d77c173d-213a-412c-b592-87fca3061113",
   "metadata": {},
   "outputs": [],
   "source": [
    "mapa"
   ]
  },
  {
   "cell_type": "code",
   "execution_count": null,
   "id": "b4547628-1f3f-4d58-9489-3e913823848e",
   "metadata": {},
   "outputs": [],
   "source": [
    "## Adicionando um círculo de marcação\n",
    "\n",
    "folium.Map(location = [-23.5489, -46.6388],\n",
    "          tiles = 'Stamen Terrain',)\n",
    "\n",
    "folium.CircleMarker(\n",
    "    location = [-23.5503099, -46.6342009],\n",
    "    radius = 50,\n",
    "    color = '#3186cc',\n",
    "    fill = True,\n",
    "    fill_color = '#3186cc'\n",
    ").add_to(mapa)"
   ]
  },
  {
   "cell_type": "code",
   "execution_count": null,
   "id": "9351b23a-014d-4e8b-8802-95269ef91a07",
   "metadata": {},
   "outputs": [],
   "source": [
    "mapa"
   ]
  },
  {
   "cell_type": "markdown",
   "id": "b07d113d-bd65-4283-ac7f-7d1bf8b73844",
   "metadata": {},
   "source": [
    "### Adicionando marcação de locais no mapa"
   ]
  },
  {
   "cell_type": "code",
   "execution_count": null,
   "id": "54900217-4a06-40a8-964e-da731a1e2914",
   "metadata": {},
   "outputs": [],
   "source": [
    "# Agora o mapa exibe a latitude e longitude\n",
    "\n",
    "mapa.add_child(folium.LatLngPopup())"
   ]
  },
  {
   "cell_type": "code",
   "execution_count": null,
   "id": "3b54ef71-313b-4921-b8dc-f46a216d124e",
   "metadata": {},
   "outputs": [],
   "source": [
    "import pandas as pd"
   ]
  },
  {
   "cell_type": "code",
   "execution_count": null,
   "id": "863c0a6c-093a-4a13-8302-516e0d92f13b",
   "metadata": {},
   "outputs": [],
   "source": [
    "df = pd.read_excel('pontos_turisticos.xlsx')"
   ]
  },
  {
   "cell_type": "code",
   "execution_count": null,
   "id": "c81a8101-621b-43e4-b0f2-49858deb55bc",
   "metadata": {},
   "outputs": [],
   "source": [
    "df.head()"
   ]
  },
  {
   "cell_type": "code",
   "execution_count": null,
   "id": "c74b0eb1-67b3-40f9-8c0a-1c4a665c931b",
   "metadata": {},
   "outputs": [],
   "source": [
    "mapa = folium.Map(location = [-23.5489, -46.6388])\n",
    "for local, lat, lon in zip(df.LOCAL.values, df.LATITUDE.values, df.LONGITUDE.values):\n",
    "    folium.Marker([lat, lon], tooltip = f'{local}').add_to(mapa)"
   ]
  },
  {
   "cell_type": "code",
   "execution_count": null,
   "id": "4be78db0-38a0-4b11-9df7-78bd5318ff87",
   "metadata": {},
   "outputs": [],
   "source": [
    "mapa"
   ]
  }
 ],
 "metadata": {
  "kernelspec": {
   "display_name": "Python 3 (ipykernel)",
   "language": "python",
   "name": "python3"
  },
  "language_info": {
   "codemirror_mode": {
    "name": "ipython",
    "version": 3
   },
   "file_extension": ".py",
   "mimetype": "text/x-python",
   "name": "python",
   "nbconvert_exporter": "python",
   "pygments_lexer": "ipython3",
   "version": "3.9.12"
  }
 },
 "nbformat": 4,
 "nbformat_minor": 5
}
