{
 "cells": [
  {
   "cell_type": "markdown",
   "id": "68e306de-14e8-494f-8865-5d530d633b7a",
   "metadata": {},
   "source": [
    "### Criando Mapas"
   ]
  },
  {
   "cell_type": "code",
   "execution_count": 15,
   "id": "76ad58ac-9f6e-40ec-98f4-f740db29bf3f",
   "metadata": {},
   "outputs": [],
   "source": [
    "import folium"
   ]
  },
  {
   "cell_type": "code",
   "execution_count": 16,
   "id": "c02c8a68-6d34-4fa1-a5a1-6db96ea819d6",
   "metadata": {},
   "outputs": [],
   "source": [
    "mapa = folium.Map(location = [-23.5489, -46.6388])"
   ]
  },
  {
   "cell_type": "code",
   "execution_count": 17,
   "id": "9d050c31-ba19-41ff-8ab2-5087fbb6fa34",
   "metadata": {
    "tags": []
   },
   "outputs": [
    {
     "data": {
      "text/html": [
       "<div style=\"width:100%;\"><div style=\"position:relative;width:100%;height:0;padding-bottom:60%;\"><span style=\"color:#565656\">Make this Notebook Trusted to load map: File -> Trust Notebook</span><iframe srcdoc=\"&lt;!DOCTYPE html&gt;\n",
       "&lt;html&gt;\n",
       "&lt;head&gt;\n",
       "    \n",
       "    &lt;meta http-equiv=&quot;content-type&quot; content=&quot;text/html; charset=UTF-8&quot; /&gt;\n",
       "    \n",
       "        &lt;script&gt;\n",
       "            L_NO_TOUCH = false;\n",
       "            L_DISABLE_3D = false;\n",
       "        &lt;/script&gt;\n",
       "    \n",
       "    &lt;style&gt;html, body {width: 100%;height: 100%;margin: 0;padding: 0;}&lt;/style&gt;\n",
       "    &lt;style&gt;#map {position:absolute;top:0;bottom:0;right:0;left:0;}&lt;/style&gt;\n",
       "    &lt;script src=&quot;https://cdn.jsdelivr.net/npm/leaflet@1.9.3/dist/leaflet.js&quot;&gt;&lt;/script&gt;\n",
       "    &lt;script src=&quot;https://code.jquery.com/jquery-1.12.4.min.js&quot;&gt;&lt;/script&gt;\n",
       "    &lt;script src=&quot;https://cdn.jsdelivr.net/npm/bootstrap@5.2.2/dist/js/bootstrap.bundle.min.js&quot;&gt;&lt;/script&gt;\n",
       "    &lt;script src=&quot;https://cdnjs.cloudflare.com/ajax/libs/Leaflet.awesome-markers/2.0.2/leaflet.awesome-markers.js&quot;&gt;&lt;/script&gt;\n",
       "    &lt;link rel=&quot;stylesheet&quot; href=&quot;https://cdn.jsdelivr.net/npm/leaflet@1.9.3/dist/leaflet.css&quot;/&gt;\n",
       "    &lt;link rel=&quot;stylesheet&quot; href=&quot;https://cdn.jsdelivr.net/npm/bootstrap@5.2.2/dist/css/bootstrap.min.css&quot;/&gt;\n",
       "    &lt;link rel=&quot;stylesheet&quot; href=&quot;https://netdna.bootstrapcdn.com/bootstrap/3.0.0/css/bootstrap.min.css&quot;/&gt;\n",
       "    &lt;link rel=&quot;stylesheet&quot; href=&quot;https://cdn.jsdelivr.net/npm/@fortawesome/fontawesome-free@6.2.0/css/all.min.css&quot;/&gt;\n",
       "    &lt;link rel=&quot;stylesheet&quot; href=&quot;https://cdnjs.cloudflare.com/ajax/libs/Leaflet.awesome-markers/2.0.2/leaflet.awesome-markers.css&quot;/&gt;\n",
       "    &lt;link rel=&quot;stylesheet&quot; href=&quot;https://cdn.jsdelivr.net/gh/python-visualization/folium/folium/templates/leaflet.awesome.rotate.min.css&quot;/&gt;\n",
       "    \n",
       "            &lt;meta name=&quot;viewport&quot; content=&quot;width=device-width,\n",
       "                initial-scale=1.0, maximum-scale=1.0, user-scalable=no&quot; /&gt;\n",
       "            &lt;style&gt;\n",
       "                #map_67ff653fd6a4c487f6fec8b53034faeb {\n",
       "                    position: relative;\n",
       "                    width: 100.0%;\n",
       "                    height: 100.0%;\n",
       "                    left: 0.0%;\n",
       "                    top: 0.0%;\n",
       "                }\n",
       "                .leaflet-container { font-size: 1rem; }\n",
       "            &lt;/style&gt;\n",
       "        \n",
       "&lt;/head&gt;\n",
       "&lt;body&gt;\n",
       "    \n",
       "    \n",
       "            &lt;div class=&quot;folium-map&quot; id=&quot;map_67ff653fd6a4c487f6fec8b53034faeb&quot; &gt;&lt;/div&gt;\n",
       "        \n",
       "&lt;/body&gt;\n",
       "&lt;script&gt;\n",
       "    \n",
       "    \n",
       "            var map_67ff653fd6a4c487f6fec8b53034faeb = L.map(\n",
       "                &quot;map_67ff653fd6a4c487f6fec8b53034faeb&quot;,\n",
       "                {\n",
       "                    center: [-23.5489, -46.6388],\n",
       "                    crs: L.CRS.EPSG3857,\n",
       "                    zoom: 10,\n",
       "                    zoomControl: true,\n",
       "                    preferCanvas: false,\n",
       "                }\n",
       "            );\n",
       "\n",
       "            \n",
       "\n",
       "        \n",
       "    \n",
       "            var tile_layer_7a2bfb065aece43c4a050c61f8e640f9 = L.tileLayer(\n",
       "                &quot;https://{s}.tile.openstreetmap.org/{z}/{x}/{y}.png&quot;,\n",
       "                {&quot;attribution&quot;: &quot;Data by \\u0026copy; \\u003ca target=\\&quot;_blank\\&quot; href=\\&quot;http://openstreetmap.org\\&quot;\\u003eOpenStreetMap\\u003c/a\\u003e, under \\u003ca target=\\&quot;_blank\\&quot; href=\\&quot;http://www.openstreetmap.org/copyright\\&quot;\\u003eODbL\\u003c/a\\u003e.&quot;, &quot;detectRetina&quot;: false, &quot;maxNativeZoom&quot;: 18, &quot;maxZoom&quot;: 18, &quot;minZoom&quot;: 0, &quot;noWrap&quot;: false, &quot;opacity&quot;: 1, &quot;subdomains&quot;: &quot;abc&quot;, &quot;tms&quot;: false}\n",
       "            ).addTo(map_67ff653fd6a4c487f6fec8b53034faeb);\n",
       "        \n",
       "&lt;/script&gt;\n",
       "&lt;/html&gt;\" style=\"position:absolute;width:100%;height:100%;left:0;top:0;border:none !important;\" allowfullscreen webkitallowfullscreen mozallowfullscreen></iframe></div></div>"
      ],
      "text/plain": [
       "<folium.folium.Map at 0x2a6ecb95910>"
      ]
     },
     "execution_count": 17,
     "metadata": {},
     "output_type": "execute_result"
    }
   ],
   "source": [
    "mapa"
   ]
  },
  {
   "cell_type": "code",
   "execution_count": null,
   "id": "aa3f7a20-d2c4-4f3e-bddf-5f5de35704a4",
   "metadata": {},
   "outputs": [],
   "source": [
    "## Configuração de modo de exibição\n",
    "\n",
    "folium.Map(location = [-23.5489, -46.6388],\n",
    "          tiles = 'Stamen Terrain' )"
   ]
  },
  {
   "cell_type": "code",
   "execution_count": null,
   "id": "c51cc399-6ccb-4110-aacb-7c0dc725e474",
   "metadata": {},
   "outputs": [],
   "source": [
    "## Inserindo Marcador\n",
    "\n",
    "folium.Map(location = [-23.5489, -46.6388],\n",
    "          tiles = 'Stamen Terrain' )\n",
    "\n",
    "folium.Marker(\n",
    "                location = [-23.5503099, -46.6342009],\n",
    "                popup = 'Praça Da Sé'\n",
    "                \n",
    ").add_to(mapa)"
   ]
  },
  {
   "cell_type": "code",
   "execution_count": null,
   "id": "d77c173d-213a-412c-b592-87fca3061113",
   "metadata": {},
   "outputs": [],
   "source": [
    "mapa"
   ]
  },
  {
   "cell_type": "code",
   "execution_count": null,
   "id": "b4547628-1f3f-4d58-9489-3e913823848e",
   "metadata": {},
   "outputs": [],
   "source": [
    "## Adicionando um círculo de marcação\n",
    "\n",
    "folium.Map(location = [-23.5489, -46.6388],\n",
    "          tiles = 'Stamen Terrain',)\n",
    "\n",
    "folium.CircleMarker(\n",
    "    location = [-23.5503099, -46.6342009],\n",
    "    radius = 50,\n",
    "    color = '#3186cc',\n",
    "    fill = True,\n",
    "    fill_color = '#3186cc'\n",
    ").add_to(mapa)"
   ]
  },
  {
   "cell_type": "code",
   "execution_count": null,
   "id": "9351b23a-014d-4e8b-8802-95269ef91a07",
   "metadata": {},
   "outputs": [],
   "source": [
    "mapa"
   ]
  },
  {
   "cell_type": "markdown",
   "id": "b07d113d-bd65-4283-ac7f-7d1bf8b73844",
   "metadata": {},
   "source": [
    "### Adicionando marcação de locais no mapa"
   ]
  },
  {
   "cell_type": "code",
   "execution_count": null,
   "id": "54900217-4a06-40a8-964e-da731a1e2914",
   "metadata": {},
   "outputs": [],
   "source": [
    "# Agora o mapa exibe a latitude e longitude\n",
    "\n",
    "mapa.add_child(folium.LatLngPopup())"
   ]
  },
  {
   "cell_type": "code",
   "execution_count": null,
   "id": "3b54ef71-313b-4921-b8dc-f46a216d124e",
   "metadata": {},
   "outputs": [],
   "source": [
    "import pandas as pd"
   ]
  },
  {
   "cell_type": "code",
   "execution_count": null,
   "id": "863c0a6c-093a-4a13-8302-516e0d92f13b",
   "metadata": {},
   "outputs": [],
   "source": [
    "df = pd.read_excel('pontos_turisticos.xlsx')"
   ]
  },
  {
   "cell_type": "code",
   "execution_count": null,
   "id": "c81a8101-621b-43e4-b0f2-49858deb55bc",
   "metadata": {},
   "outputs": [],
   "source": [
    "df.head()"
   ]
  },
  {
   "cell_type": "code",
   "execution_count": null,
   "id": "c74b0eb1-67b3-40f9-8c0a-1c4a665c931b",
   "metadata": {},
   "outputs": [],
   "source": [
    "mapa = folium.Map(location = [-23.5489, -46.6388])\n",
    "for local, lat, lon in zip(df.LOCAL.values, df.LATITUDE.values, df.LONGITUDE.values):\n",
    "    folium.Marker([lat, lon], tooltip = f'{local}').add_to(mapa)"
   ]
  },
  {
   "cell_type": "code",
   "execution_count": null,
   "id": "4be78db0-38a0-4b11-9df7-78bd5318ff87",
   "metadata": {},
   "outputs": [],
   "source": [
    "mapa"
   ]
  }
 ],
 "metadata": {
  "kernelspec": {
   "display_name": "Python 3 (ipykernel)",
   "language": "python",
   "name": "python3"
  },
  "language_info": {
   "codemirror_mode": {
    "name": "ipython",
    "version": 3
   },
   "file_extension": ".py",
   "mimetype": "text/x-python",
   "name": "python",
   "nbconvert_exporter": "python",
   "pygments_lexer": "ipython3",
   "version": "3.9.12"
  }
 },
 "nbformat": 4,
 "nbformat_minor": 5
}
